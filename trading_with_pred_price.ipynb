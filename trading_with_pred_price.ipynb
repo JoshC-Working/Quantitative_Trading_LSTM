{
 "cells": [
  {
   "cell_type": "code",
   "execution_count": 1,
   "id": "b9f564e9",
   "metadata": {},
   "outputs": [],
   "source": [
    "from ib_insync import *  #use ibkr api to trade\n",
    "import pandas as pd\n",
    "import numpy as np\n",
    "import datetime as dt\n",
    "from IPython.display import display, clear_output\n",
    "util.startLoop() \n"
   ]
  },
  {
   "cell_type": "code",
   "execution_count": 2,
   "id": "479c7629",
   "metadata": {
    "scrolled": true
   },
   "outputs": [
    {
     "name": "stdout",
     "output_type": "stream",
     "text": [
      "[*********************100%%**********************]  1 of 1 completed\n"
     ]
    },
    {
     "name": "stderr",
     "output_type": "stream",
     "text": [
      "WARNING:absl:At this time, the v2.11+ optimizer `tf.keras.optimizers.RestoredOptimizer` runs slowly on M1/M2 Macs, please use the legacy Keras optimizer instead, located at `tf.keras.optimizers.legacy.RestoredOptimizer`.\n",
      "WARNING:absl:At this time, the v2.11+ optimizer `tf.keras.optimizers.Adam` runs slowly on M1/M2 Macs, please use the legacy Keras optimizer instead, located at `tf.keras.optimizers.legacy.Adam`.\n",
      "WARNING:absl:There is a known slowdown when using v2.11+ Keras optimizers on M1/M2 Macs. Falling back to the legacy Keras optimizer, i.e., `tf.keras.optimizers.legacy.Adam`.\n"
     ]
    },
    {
     "name": "stdout",
     "output_type": "stream",
     "text": [
      "1/1 [==============================] - 0s 205ms/step\n",
      "[[189.33829]\n",
      " [185.54694]\n",
      " [180.78506]\n",
      " [179.07199]\n",
      " [179.03308]\n",
      " [177.29698]\n",
      " [175.34393]\n",
      " [175.32478]]\n"
     ]
    }
   ],
   "source": [
    "import predict_data as mod"
   ]
  },
  {
   "cell_type": "code",
   "execution_count": 3,
   "id": "f544c47d",
   "metadata": {
    "scrolled": true
   },
   "outputs": [
    {
     "name": "stdout",
     "output_type": "stream",
     "text": [
      "[*********************100%%**********************]  1 of 1 completed\n"
     ]
    },
    {
     "name": "stderr",
     "output_type": "stream",
     "text": [
      "WARNING:absl:At this time, the v2.11+ optimizer `tf.keras.optimizers.RestoredOptimizer` runs slowly on M1/M2 Macs, please use the legacy Keras optimizer instead, located at `tf.keras.optimizers.legacy.RestoredOptimizer`.\n",
      "WARNING:absl:At this time, the v2.11+ optimizer `tf.keras.optimizers.Adam` runs slowly on M1/M2 Macs, please use the legacy Keras optimizer instead, located at `tf.keras.optimizers.legacy.Adam`.\n",
      "WARNING:absl:There is a known slowdown when using v2.11+ Keras optimizers on M1/M2 Macs. Falling back to the legacy Keras optimizer, i.e., `tf.keras.optimizers.legacy.Adam`.\n"
     ]
    },
    {
     "name": "stdout",
     "output_type": "stream",
     "text": [
      "1/1 [==============================] - 0s 192ms/step\n"
     ]
    },
    {
     "data": {
      "text/plain": [
       "189.33828735351562"
      ]
     },
     "execution_count": 3,
     "metadata": {},
     "output_type": "execute_result"
    }
   ],
   "source": [
    "pred_price = mod.predict_data(\"DHI\", 40, 8) #get today close price\n",
    "tdy_close_price = pred_price.tolist()[0][0]\n",
    "tdy_close_price"
   ]
  },
  {
   "cell_type": "code",
   "execution_count": 4,
   "id": "f023396d",
   "metadata": {},
   "outputs": [
    {
     "data": {
      "text/plain": [
       "<IB connected to 127.0.0.1:7497 clientId=1>"
      ]
     },
     "execution_count": 4,
     "metadata": {},
     "output_type": "execute_result"
    }
   ],
   "source": [
    "ib = IB()\n",
    "ib.connect()"
   ]
  },
  {
   "cell_type": "code",
   "execution_count": 5,
   "id": "67c40e4f",
   "metadata": {},
   "outputs": [],
   "source": [
    "contract = Stock(symbol='DHI',exchange = \"SMART\")\n",
    "ib.qualifyContracts(contract)\n",
    "conID = contract.conId"
   ]
  },
  {
   "cell_type": "code",
   "execution_count": 6,
   "id": "fed6ac7f",
   "metadata": {},
   "outputs": [],
   "source": [
    "trading_units = 1000\n",
    "end_time = dt.time(23, 59, 0)"
   ]
  },
  {
   "cell_type": "code",
   "execution_count": 7,
   "id": "92ae385f",
   "metadata": {},
   "outputs": [],
   "source": [
    "#ema_s = 5\n",
    "#ema_l = 8"
   ]
  },
  {
   "cell_type": "code",
   "execution_count": 8,
   "id": "e93a118b",
   "metadata": {},
   "outputs": [],
   "source": [
    "def onBarUpdate(bars, hasNewBar):  \n",
    "    global df, last_bar\n",
    "    if bars[-1].date > last_bar: # if bar completed / new bar\n",
    "        last_bar = bars[-1].date\n",
    "    \n",
    "        df = pd.DataFrame(bars)[[\"date\", \"open\", \"high\", \"low\", \"close\"]].iloc[:-1] \n",
    "        df.set_index(\"date\", inplace = True)\n",
    "                \n",
    "        df['position'] = np.where(df.close < tdy_close_price, 1, -1)\n",
    "        target = df['position'][-1] * trading_units\n",
    "\n",
    "        \n",
    "        clear_output(wait=True)\n",
    "        display(df)\n",
    "     \n",
    "    else:\n",
    "        clear_output(wait=True)\n",
    "        trade_reporting()"
   ]
  },
  {
   "cell_type": "code",
   "execution_count": 9,
   "id": "015a37a2",
   "metadata": {},
   "outputs": [],
   "source": [
    "def trade_execute(target): \n",
    "    try:\n",
    "        current_pos = [pos.position for pos in ib.positions() if pos.contract.conId == conId][0]\n",
    "    except:\n",
    "        current_pos = 0\n",
    "        \n",
    "    trades = target - current_pos\n",
    "    print(trades,target,current_pos)\n",
    "    if trades < 0:\n",
    "        side = 'SELL'\n",
    "        order = MarketOrder(side, abs(trades))\n",
    "        trade = ib.placeOrder(contract, order)\n",
    "        \n",
    "        \n",
    "    elif trades > 0:\n",
    "        side = 'BUY'\n",
    "        order = MarketOrder(side, abs(trades))\n",
    "        trade = ib.placeOrder(contract, order)\n",
    "    else: \n",
    "        pass"
   ]
  },
  {
   "cell_type": "code",
   "execution_count": 10,
   "id": "7091237e",
   "metadata": {},
   "outputs": [],
   "source": [
    "def trade_reporting():\n",
    "    global report\n",
    "    \n",
    "    fill_df = util.df([fs.execution for fs in ib.fills()])[[\"execId\", \"time\", \"side\", \"cumQty\", \"avgPrice\"]].set_index(\"execId\")\n",
    "    profit_df = util.df([fs.commissionReport for fs in ib.fills()])[[\"execId\", \"realizedPNL\"]].set_index(\"execId\")\n",
    "    report = pd.concat([fill_df, profit_df], axis = 1).set_index(\"time\").loc[session_start:]\n",
    "    report = report.groupby(\"time\").agg({\"side\":\"first\", \"cumQty\":\"max\", \"avgPrice\":\"mean\", \"realizedPNL\":\"sum\"})\n",
    "    report[\"cumPNL\"] = report.realizedPNL.cumsum()\n",
    "    \n",
    "    clear_output(wait=True)\n",
    "    display(report)\n",
    "    \n",
    "    "
   ]
  },
  {
   "cell_type": "code",
   "execution_count": null,
   "id": "b1e9ac7b",
   "metadata": {},
   "outputs": [
    {
     "name": "stderr",
     "output_type": "stream",
     "text": [
      "ERROR:ib_insync.wrapper:Error 162, reqId 13: Historical Market Data Service error message:No market data permissions for NYSE STK. Requested market data requires additional subscription for API. See link in 'Market Data Connections' dialog for more details., contract: Stock(conId=268627, symbol='DHI', exchange='SMART', primaryExchange='NYSE', currency='USD', localSymbol='DHI', tradingClass='DHI')\n"
     ]
    },
    {
     "name": "stdout",
     "output_type": "stream",
     "text": [
      "No historical data available.\n"
     ]
    },
    {
     "name": "stderr",
     "output_type": "stream",
     "text": [
      "ERROR:ib_insync.wrapper:Error 1100, reqId -1: Connectivity between IBKR and Trader Workstation has been lost.\n",
      "ERROR:ib_insync.wrapper:Error 1102, reqId -1: Connectivity between IBKR and Trader Workstation has been restored - data maintained. All data farms are connected: usfarm.nj; cashfarm; usfarm; euhmds; fundfarm; ushmds; secdefil.\n",
      "ERROR:ib_insync.wrapper:Error 1100, reqId -1: Connectivity between IBKR and Trader Workstation has been lost.\n",
      "ERROR:ib_insync.wrapper:Error 1102, reqId -1: Connectivity between IBKR and Trader Workstation has been restored - data maintained. All data farms are connected: usfarm.nj; cashfarm; usfarm; euhmds; fundfarm; ushmds; secdefil.\n",
      "ERROR:ib_insync.wrapper:Error 1100, reqId -1: Connectivity between IBKR and Trader Workstation has been lost.\n",
      "ERROR:ib_insync.wrapper:Error 1100, reqId -1: Connectivity between IBKR and Trader Workstation has been lost.\n"
     ]
    }
   ],
   "source": [
    "session_start = pd.to_datetime(dt.datetime.utcnow()).tz_localize(\"utc\")\n",
    "bars = ib.reqHistoricalData(\n",
    "        contract,\n",
    "        endDateTime='',\n",
    "        durationStr='1 D',\n",
    "        barSizeSetting='10 mins',\n",
    "        whatToShow='MIDPOINT',\n",
    "        useRTH=True,\n",
    "        formatDate=2,\n",
    "        keepUpToDate=True)\n",
    "ib.sleep(10)\n",
    "if bars:\n",
    "    last_bar = bars[-1].date\n",
    "    bars.updateEvent += onBarUpdate\n",
    "else:\n",
    "    print(\"No historical data available.\")\n",
    "bars.updateEvent += onBarUpdate\n",
    "\n",
    "# stop trading session\n",
    "while True:\n",
    "    ib.sleep(5) # check every 5 seconds\n",
    "    if dt.datetime.utcnow().time() >= end_time: # if stop conditions has been met\n",
    "        trade_execute(target = 0) # close open position \n",
    "        ib.cancelHistoricalData(bars) # stop stream\n",
    "        ib.sleep(10)\n",
    "        try:\n",
    "            trade_reporting() # final reporting\n",
    "        except:\n",
    "            pass\n",
    "        print(\"Session Stopped.\")\n",
    "        ib.disconnect()\n",
    "        break\n",
    "    else:\n",
    "        pass"
   ]
  },
  {
   "cell_type": "code",
   "execution_count": null,
   "id": "88f3aee3",
   "metadata": {
    "scrolled": true
   },
   "outputs": [],
   "source": [
    "ib.disconnect()\n"
   ]
  },
  {
   "cell_type": "code",
   "execution_count": null,
   "id": "599d018d",
   "metadata": {
    "scrolled": true
   },
   "outputs": [],
   "source": [
    "ib.isConnected"
   ]
  },
  {
   "cell_type": "code",
   "execution_count": null,
   "id": "c351e5ae",
   "metadata": {},
   "outputs": [],
   "source": []
  },
  {
   "cell_type": "code",
   "execution_count": null,
   "id": "ddb141b8",
   "metadata": {},
   "outputs": [],
   "source": []
  }
 ],
 "metadata": {
  "kernelspec": {
   "display_name": "Python 3 (ipykernel)",
   "language": "python",
   "name": "python3"
  },
  "language_info": {
   "codemirror_mode": {
    "name": "ipython",
    "version": 3
   },
   "file_extension": ".py",
   "mimetype": "text/x-python",
   "name": "python",
   "nbconvert_exporter": "python",
   "pygments_lexer": "ipython3",
   "version": "3.11.4"
  }
 },
 "nbformat": 4,
 "nbformat_minor": 5
}

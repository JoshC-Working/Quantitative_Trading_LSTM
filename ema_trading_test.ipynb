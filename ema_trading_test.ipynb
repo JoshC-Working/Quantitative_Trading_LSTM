{
 "cells": [
  {
   "cell_type": "code",
   "execution_count": 3,
   "id": "b9f564e9",
   "metadata": {},
   "outputs": [],
   "source": [
    "from ib_insync import * \n",
    "import pandas as pd\n",
    "import numpy as np\n",
    "import datetime as dt\n",
    "from IPython.display import display, clear_output\n",
    "util.startLoop() "
   ]
  },
  {
   "cell_type": "code",
   "execution_count": 4,
   "id": "f023396d",
   "metadata": {},
   "outputs": [
    {
     "data": {
      "text/plain": [
       "<IB connected to 127.0.0.1:7497 clientId=9>"
      ]
     },
     "execution_count": 4,
     "metadata": {},
     "output_type": "execute_result"
    }
   ],
   "source": [
    "ib = IB()\n",
    "ib.connect(clientId=9)"
   ]
  },
  {
   "cell_type": "code",
   "execution_count": 3,
   "id": "67c40e4f",
   "metadata": {},
   "outputs": [],
   "source": [
    "contract = Forex('EURUSD')\n",
    "ib.qualifyContracts(contract)\n",
    "cfd = CFD(\"EUR\", currency = \"USD\")\n",
    "ib.qualifyContracts(cfd)\n",
    "conID = cfd.conId"
   ]
  },
  {
   "cell_type": "code",
   "execution_count": 4,
   "id": "fed6ac7f",
   "metadata": {},
   "outputs": [],
   "source": [
    "trading_units = 1000\n",
    "end_time = dt.time(23, 30, 0)"
   ]
  },
  {
   "cell_type": "code",
   "execution_count": 5,
   "id": "92ae385f",
   "metadata": {},
   "outputs": [],
   "source": [
    "ema_s = 5\n",
    "ema_l = 8"
   ]
  },
  {
   "cell_type": "code",
   "execution_count": 6,
   "id": "e93a118b",
   "metadata": {},
   "outputs": [],
   "source": [
    "def onBarUpdate(bars, hasNewBar):  \n",
    "    global df, last_bar\n",
    "    if bars[-1].date > last_bar: # if bar completed / new bar\n",
    "        last_bar = bars[-1].date\n",
    "    \n",
    "        df = pd.DataFrame(bars)[[\"date\", \"open\", \"high\", \"low\", \"close\"]].iloc[:-1] \n",
    "        df.set_index(\"date\", inplace = True)\n",
    "        \n",
    "        df['EMA_S'] = df.close.ewm(span = ema_s, min_periods = ema_s).mean()\n",
    "        df['EMA_L'] = df.close.ewm(span = ema_l, min_periods = ema_l).mean()\n",
    "        df.dropna(inplace = True)\n",
    "        df['MACD'] = df['EMA_S'] - df['EMA_L']\n",
    "        df['MACD_signal'] = df['MACD'].ewm(span = 3, min_periods = 3).mean()\n",
    "        df['position'] = np.where(df.MACD_signal - df.MACD > 0, 1, -1)\n",
    "        \n",
    "        target = df['position'][-1] * trading_units\n",
    "        trade_execute(target)\n",
    "        \n",
    "        clear_output(wait=True)\n",
    "        display(df)\n",
    "     \n",
    "    else:\n",
    "        clear_output(wait=True)\n",
    "        trade_reporting()"
   ]
  },
  {
   "cell_type": "code",
   "execution_count": 7,
   "id": "015a37a2",
   "metadata": {},
   "outputs": [],
   "source": [
    "def trade_execute(target): \n",
    "    try:\n",
    "        current_pos = [pos.position for pos in ib.positions() if pos.contract.conId == conId][0]\n",
    "    except:\n",
    "        current_pos = 0\n",
    "        \n",
    "    trades = target - current_pos\n",
    "    print(trades,target,current_pos)\n",
    "    if trades < 0:\n",
    "        side = 'SELL'\n",
    "        order = MarketOrder(side, abs(trades))\n",
    "        trade = ib.placeOrder(cfd, order)\n",
    "        \n",
    "        \n",
    "    elif trades > 0:\n",
    "        side = 'BUY'\n",
    "        order = MarketOrder(side, abs(trades))\n",
    "        trade = ib.placeOrder(cfd, order)\n",
    "    else: \n",
    "        pass"
   ]
  },
  {
   "cell_type": "code",
   "execution_count": 8,
   "id": "7091237e",
   "metadata": {},
   "outputs": [],
   "source": [
    "def trade_reporting():\n",
    "    global report\n",
    "    \n",
    "    fill_df = util.df([fs.execution for fs in ib.fills()])[[\"execId\", \"time\", \"side\", \"cumQty\", \"avgPrice\"]].set_index(\"execId\")\n",
    "    profit_df = util.df([fs.commissionReport for fs in ib.fills()])[[\"execId\", \"realizedPNL\"]].set_index(\"execId\")\n",
    "    report = pd.concat([fill_df, profit_df], axis = 1).set_index(\"time\").loc[session_start:]\n",
    "    report = report.groupby(\"time\").agg({\"side\":\"first\", \"cumQty\":\"max\", \"avgPrice\":\"mean\", \"realizedPNL\":\"sum\"})\n",
    "    report[\"cumPNL\"] = report.realizedPNL.cumsum()\n",
    "    \n",
    "    clear_output(wait=True)\n",
    "    display(report)\n",
    "    \n",
    "    "
   ]
  },
  {
   "cell_type": "code",
   "execution_count": null,
   "id": "b1e9ac7b",
   "metadata": {},
   "outputs": [
    {
     "data": {
      "text/html": [
       "<div>\n",
       "<style scoped>\n",
       "    .dataframe tbody tr th:only-of-type {\n",
       "        vertical-align: middle;\n",
       "    }\n",
       "\n",
       "    .dataframe tbody tr th {\n",
       "        vertical-align: top;\n",
       "    }\n",
       "\n",
       "    .dataframe thead th {\n",
       "        text-align: right;\n",
       "    }\n",
       "</style>\n",
       "<table border=\"1\" class=\"dataframe\">\n",
       "  <thead>\n",
       "    <tr style=\"text-align: right;\">\n",
       "      <th></th>\n",
       "      <th>side</th>\n",
       "      <th>cumQty</th>\n",
       "      <th>avgPrice</th>\n",
       "      <th>realizedPNL</th>\n",
       "      <th>cumPNL</th>\n",
       "    </tr>\n",
       "    <tr>\n",
       "      <th>time</th>\n",
       "      <th></th>\n",
       "      <th></th>\n",
       "      <th></th>\n",
       "      <th></th>\n",
       "      <th></th>\n",
       "    </tr>\n",
       "  </thead>\n",
       "  <tbody>\n",
       "    <tr>\n",
       "      <th>2023-09-06 15:37:00+00:00</th>\n",
       "      <td>SLD</td>\n",
       "      <td>1000.0</td>\n",
       "      <td>1.07145</td>\n",
       "      <td>0.00000</td>\n",
       "      <td>0.00000</td>\n",
       "    </tr>\n",
       "    <tr>\n",
       "      <th>2023-09-06 15:38:00+00:00</th>\n",
       "      <td>SLD</td>\n",
       "      <td>1000.0</td>\n",
       "      <td>1.07155</td>\n",
       "      <td>0.00000</td>\n",
       "      <td>0.00000</td>\n",
       "    </tr>\n",
       "    <tr>\n",
       "      <th>2023-09-06 15:39:00+00:00</th>\n",
       "      <td>SLD</td>\n",
       "      <td>1000.0</td>\n",
       "      <td>1.07145</td>\n",
       "      <td>0.00000</td>\n",
       "      <td>0.00000</td>\n",
       "    </tr>\n",
       "    <tr>\n",
       "      <th>2023-09-06 15:40:00+00:00</th>\n",
       "      <td>BOT</td>\n",
       "      <td>1000.0</td>\n",
       "      <td>1.07140</td>\n",
       "      <td>-3.91667</td>\n",
       "      <td>-3.91667</td>\n",
       "    </tr>\n",
       "    <tr>\n",
       "      <th>2023-09-06 15:41:01+00:00</th>\n",
       "      <td>BOT</td>\n",
       "      <td>1000.0</td>\n",
       "      <td>1.07145</td>\n",
       "      <td>-3.96667</td>\n",
       "      <td>-7.88334</td>\n",
       "    </tr>\n",
       "    <tr>\n",
       "      <th>2023-09-06 15:42:00+00:00</th>\n",
       "      <td>BOT</td>\n",
       "      <td>1000.0</td>\n",
       "      <td>1.07140</td>\n",
       "      <td>-3.91666</td>\n",
       "      <td>-11.80000</td>\n",
       "    </tr>\n",
       "  </tbody>\n",
       "</table>\n",
       "</div>"
      ],
      "text/plain": [
       "                          side  cumQty  avgPrice  realizedPNL    cumPNL\n",
       "time                                                                   \n",
       "2023-09-06 15:37:00+00:00  SLD  1000.0   1.07145      0.00000   0.00000\n",
       "2023-09-06 15:38:00+00:00  SLD  1000.0   1.07155      0.00000   0.00000\n",
       "2023-09-06 15:39:00+00:00  SLD  1000.0   1.07145      0.00000   0.00000\n",
       "2023-09-06 15:40:00+00:00  BOT  1000.0   1.07140     -3.91667  -3.91667\n",
       "2023-09-06 15:41:01+00:00  BOT  1000.0   1.07145     -3.96667  -7.88334\n",
       "2023-09-06 15:42:00+00:00  BOT  1000.0   1.07140     -3.91666 -11.80000"
      ]
     },
     "metadata": {},
     "output_type": "display_data"
    }
   ],
   "source": [
    "session_start = pd.to_datetime(dt.datetime.utcnow()).tz_localize(\"utc\")\n",
    "bars = ib.reqHistoricalData(\n",
    "        contract,\n",
    "        endDateTime='',\n",
    "        durationStr='1 D',\n",
    "        barSizeSetting='1 min',\n",
    "        whatToShow='MIDPOINT',\n",
    "        useRTH=True,\n",
    "        formatDate=2,\n",
    "        keepUpToDate=True)\n",
    "last_bar = bars[-1].date\n",
    "bars.updateEvent += onBarUpdate\n",
    "\n",
    "# stop trading session\n",
    "while True:\n",
    "    ib.sleep(5) # check every 5 seconds\n",
    "    if dt.datetime.utcnow().time() >= end_time: # if stop conditions has been met\n",
    "        trade_execute(target = 0) # close open position \n",
    "        ib.cancelHistoricalData(bars) # stop stream\n",
    "        ib.sleep(10)\n",
    "        try:\n",
    "            trade_reporting() # final reporting\n",
    "        except:\n",
    "            pass\n",
    "        print(\"Session Stopped.\")\n",
    "        ib.disconnect()\n",
    "        break\n",
    "    else:\n",
    "        pass"
   ]
  },
  {
   "cell_type": "code",
   "execution_count": 5,
   "id": "88f3aee3",
   "metadata": {
    "scrolled": true
   },
   "outputs": [],
   "source": [
    "ib.disconnect()\n"
   ]
  },
  {
   "cell_type": "code",
   "execution_count": 6,
   "id": "599d018d",
   "metadata": {
    "scrolled": true
   },
   "outputs": [
    {
     "data": {
      "text/plain": [
       "<bound method IB.isConnected of <IB not connected>>"
      ]
     },
     "execution_count": 6,
     "metadata": {},
     "output_type": "execute_result"
    }
   ],
   "source": [
    "ib.isConnected"
   ]
  },
  {
   "cell_type": "code",
   "execution_count": null,
   "id": "c351e5ae",
   "metadata": {},
   "outputs": [],
   "source": []
  },
  {
   "cell_type": "code",
   "execution_count": null,
   "id": "ddb141b8",
   "metadata": {},
   "outputs": [],
   "source": []
  }
 ],
 "metadata": {
  "kernelspec": {
   "display_name": "Python 3 (ipykernel)",
   "language": "python",
   "name": "python3"
  },
  "language_info": {
   "codemirror_mode": {
    "name": "ipython",
    "version": 3
   },
   "file_extension": ".py",
   "mimetype": "text/x-python",
   "name": "python",
   "nbconvert_exporter": "python",
   "pygments_lexer": "ipython3",
   "version": "3.11.4"
  }
 },
 "nbformat": 4,
 "nbformat_minor": 5
}

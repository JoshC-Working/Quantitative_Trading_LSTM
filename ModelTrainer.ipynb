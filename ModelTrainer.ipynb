{
 "cells": [
  {
   "cell_type": "markdown",
   "metadata": {},
   "source": [
    "## Preparation\n",
    "---"
   ]
  },
  {
   "cell_type": "code",
   "execution_count": 1,
   "metadata": {},
   "outputs": [],
   "source": [
    "import math\n",
    "import numpy as np\n",
    "import pandas as pd\n",
    "from sklearn.preprocessing import MinMaxScaler\n",
    "from keras.models import Sequential\n",
    "from keras.layers import Dense, LSTM\n",
    "import matplotlib.pyplot as plt\n",
    "import yfinance as yf\n",
    "import datetime\n",
    "import os\n",
    "import pdb\n",
    "import threading\n",
    "import queue"
   ]
  },
  {
   "cell_type": "markdown",
   "metadata": {},
   "source": [
    "## Design the fucntion to run in threads with OOP\n",
    "---"
   ]
  },
  {
   "cell_type": "code",
   "execution_count": 2,
   "metadata": {},
   "outputs": [],
   "source": [
    "class ModelTrainer(threading.Thread):\n",
    "    def __init__(self, num,  *args, x_train, y_train, x_test, y_test, scaler= None, num_cells_layer1, num_batch_size, num_epochs, errorQueue=None, modelQueue=None, lock=None):\n",
    "        threading.Thread.__init__(self)\n",
    "        self.x_train = x_train\n",
    "        self.y_train = y_train\n",
    "        self.num_cells_layer1 = num_cells_layer1\n",
    "        self.num_batch_size = num_batch_size\n",
    "        self.num_epochs = num_epochs\n",
    "        self.errorQueue = errorQueue\n",
    "        self.modelQueue = modelQueue\n",
    "        self.lock = lock\n",
    "        self.num = num\n",
    "        self.x_test = x_test\n",
    "        self.y_test = y_test\n",
    "        self.scaler = scaler\n",
    "\n",
    "    def run(self):\n",
    "        #### Basically the below is the same as how we build, train, test a model in usual\n",
    "        model = Sequential()\n",
    "\n",
    "        j = self.x_train.shape[1]\n",
    "        model.add(LSTM(self.num_cells_layer1,\n",
    "                  return_sequences=False, input_shape=(j, 1)))\n",
    "        model.add(Dense(25))\n",
    "        model.add(Dense(1))\n",
    "        model.compile(optimizer='adam', loss='mean_squared_error')\n",
    "\n",
    "        model.fit(self.x_train, self.y_train,\n",
    "                  batch_size=self.num_batch_size, epochs=self.num_epochs)\n",
    "\n",
    "        predictions = model.predict(self.x_test)\n",
    "\n",
    "      \n",
    "        predictions = self.scaler.inverse_transform(predictions)\n",
    "\n",
    "        rmse = np.sqrt(np.mean((self.y_test - predictions)**2))\n",
    "\n",
    "\n",
    "        #### Each model and its RMSE will be returned to the modelQueue in the main thread.\n",
    "        self.lock.acquire()  ## Using lock to avoid errors in accessing the global queue \n",
    "        print(f\"Lock acquired by {self.num }\") \n",
    "\n",
    "        self.modelQueue.put(rmse)  ## pass the rmse\n",
    "        self.modelQueue.put(model)  ## pass the mode\n",
    "        self.modelQueue.put(int(self.num))  ## pass the num(i.e. ID) of the thread\n",
    "\n",
    "        print(f\"Lock acquired by {self.num}\")\n",
    "        self.lock.release()\n"
   ]
  },
  {
   "cell_type": "markdown",
   "metadata": {},
   "source": [
    "## Define Constants for the Whole Process\n",
    "---"
   ]
  },
  {
   "cell_type": "code",
   "execution_count": 3,
   "metadata": {},
   "outputs": [],
   "source": [
    "## symbol of the target stock \n",
    "stock = \"ON\"\n",
    "\n",
    "## Parameters for the training approach\n",
    "window_interval = 60\n",
    "delay = 8  # i.e. the No. of future days that we can do prediction\n",
    "\n",
    "## Hyperparameters for the Model\n",
    "num_cells_layer1 = 128\n",
    "num_cells_layer2 = None\n",
    "num_batch_size = 2\n",
    "num_epochs = 2\n",
    "\n",
    "## Starting Date of the data to train\n",
    "start_date = datetime.datetime(2002, 1, 1)\n",
    "\n",
    "## number of models to generate\n",
    "numOfModels = 10  ## also equals the number of threads that will be created later"
   ]
  },
  {
   "cell_type": "markdown",
   "metadata": {},
   "source": [
    "## Feature Engineering\n",
    "---\n",
    "This part is all most the same as what we do before training a model"
   ]
  },
  {
   "cell_type": "code",
   "execution_count": 4,
   "metadata": {},
   "outputs": [
    {
     "name": "stdout",
     "output_type": "stream",
     "text": [
      "[*********************100%***********************]  1 of 1 completed\n"
     ]
    }
   ],
   "source": [
    "df = yf.download(stock, start=start_date)\n",
    "\n",
    "data = df[['Close']]\n",
    "dataset = data.values\n",
    "\n",
    "## Get the length of training data\n",
    "training_data_len = math.ceil(len(dataset)*0.8)   ## Ratio of Train and Test set is 8:2\n",
    "\n",
    "\n",
    "## Scale the data by MinMax Method\n",
    "scaler = MinMaxScaler(feature_range=(0, 1))\n",
    "scaled_data = scaler.fit_transform(dataset)\n",
    "\n",
    "\n",
    "## Build Training Set\n",
    "train_data = scaled_data[0:training_data_len]\n",
    "\n",
    "x_train = []\n",
    "y_train = []\n",
    "\n",
    "for i in range(window_interval+delay, len(train_data)):\n",
    "    x_train.append(train_data[i-window_interval-delay:i-delay, 0])\n",
    "    y_train.append(train_data[i, 0])\n",
    "\n",
    "x_train, y_train = np.array(x_train), np.array(y_train)\n",
    "i, j = x_train.shape\n",
    "x_train_reshaped = np.reshape(x_train, (i, j, 1))\n",
    "x_train_reshaped.shape\n",
    "\n",
    "\n",
    "## Build Test Set\n",
    "test_data = scaled_data[training_data_len-window_interval:]\n",
    "x_test = []\n",
    "y_test = dataset[training_data_len:,]\n",
    "\n",
    "for i in range(window_interval, len(test_data)):\n",
    "    x_test.append(test_data[i-window_interval:i, 0])\n",
    "\n",
    "\n",
    "x_test = np.array(x_test)\n",
    "i, j = x_test.shape\n",
    "x_test = np.reshape(x_test, (i, j, 1))"
   ]
  },
  {
   "cell_type": "markdown",
   "metadata": {},
   "source": [
    "## Model Training Process in Multiprocessing\n",
    "---"
   ]
  },
  {
   "cell_type": "code",
   "execution_count": 5,
   "metadata": {},
   "outputs": [],
   "source": [
    "## Create a queue and a lock for the multithreading system\n",
    "\n",
    "modelQueue = queue.Queue()\n",
    "lock = threading.Lock()"
   ]
  },
  {
   "cell_type": "code",
   "execution_count": 6,
   "metadata": {},
   "outputs": [
    {
     "name": "stdout",
     "output_type": "stream",
     "text": [
      "Epoch 1/2\n",
      "Epoch 1/2\n",
      "Epoch 1/2\n",
      "Epoch 1/2\n",
      "Epoch 1/2\n",
      "Epoch 1/2\n",
      "Epoch 1/2\n",
      "Epoch 1/2\n",
      "Epoch 1/2\n",
      "Epoch 1/2\n",
      "2157/2157 [==============================] - 85s 34ms/step - loss: 1.1526e-04\n",
      "Epoch 2/2\n",
      "2157/2157 [==============================] - 86s 34ms/step - loss: 1.1990e-04\n",
      "2122/2157 [============================>.] - ETA: 1s - loss: 1.2332e-04Epoch 2/2\n",
      "2157/2157 [==============================] - 86s 34ms/step - loss: 1.1678e-04\n",
      "2157/2157 [==============================] - 86s 34ms/step - loss: 1.2982e-04\n",
      "Epoch 2/2\n",
      "Epoch 2/2\n",
      "2157/2157 [==============================] - 87s 35ms/step - loss: 1.2011e-04\n",
      "Epoch 2/2\n",
      "2157/2157 [==============================] - 87s 35ms/step - loss: 1.3124e-04\n",
      "Epoch 2/2\n",
      "2157/2157 [==============================] - 87s 35ms/step - loss: 1.2296e-04\n",
      "  25/2157 [..............................] - ETA: 1:34 - loss: 9.4454e-05Epoch 2/2\n",
      "2157/2157 [==============================] - 87s 35ms/step - loss: 1.2609e-04\n",
      "2149/2157 [============================>.] - ETA: 0s - loss: 1.2038e-04Epoch 2/2\n",
      "2157/2157 [==============================] - 88s 35ms/step - loss: 1.2029e-04\n",
      "Epoch 2/2\n",
      "2157/2157 [==============================] - 88s 35ms/step - loss: 1.2205e-04\n",
      "  57/2157 [..............................] - ETA: 1:29 - loss: 8.4141e-05Epoch 2/2\n",
      "2157/2157 [==============================] - 84s 39ms/step - loss: 8.8193e-05\n",
      "2157/2157 [==============================] - 84s 39ms/step - loss: 9.0908e-05\n",
      "2157/2157 [==============================] - 84s 39ms/step - loss: 9.2624e-05\n",
      "2157/2157 [==============================] - 84s 39ms/step - loss: 9.0758e-05\n",
      "2157/2157 [==============================] - 84s 39ms/step - loss: 9.0078e-05\n",
      "2157/2157 [==============================] - 84s 39ms/step - loss: 9.7230e-05\n",
      "2157/2157 [==============================] - 84s 39ms/step - loss: 9.0357e-05\n",
      "2157/2157 [==============================] - 85s 39ms/step - loss: 8.9484e-05\n",
      "35/35 [==============================] - 3s 45ms/step- loss: 9.0056e-\n",
      "2157/2157 [==============================] - 85s 39ms/step - loss: 8.9921e-05\n",
      "35/35 [==============================] - 3s 46ms/step- loss: 9.24\n",
      "10/35 [=======>......................] - ETA: 0s: 0s - loss: 9.2334e-Lock acquired by 3\n",
      "Lock acquired by 3\n",
      "2157/2157 [==============================] - 85s 40ms/step - loss: 9.2205e-05\n",
      "23/35 [==================>...........] - ETA: 0sLock acquired by 8\n",
      "Lock acquired by 8\n",
      "35/35 [==============================] - 4s 37ms/step\n",
      "35/35 [==============================] - 3s 38ms/step\n",
      "18/35 [==============>...............] - ETA: 0sLock acquired by 9\n",
      "Lock acquired by 9\n",
      "21/35 [=================>............] - ETA: 0sLock acquired by 2\n",
      "Lock acquired by 2\n",
      "35/35 [==============================] - 4s 27ms/step\n",
      "35/35 [==============================] - 3s 23ms/step\n",
      "35/35 [==============================] - 3s 24ms/step\n",
      "\n",
      "Lock acquired by 7\n",
      " 5/35 [===>..........................] - ETA: 0s  Lock acquired by 6\n",
      "Lock acquired by 6\n",
      "Lock acquired by 4\n",
      "Lock acquired by 4\n",
      "35/35 [==============================] - 2s 15ms/step\n",
      "22/35 [=================>............] - ETA: 0sLock acquired by 1\n",
      "Lock acquired by 1\n",
      "35/35 [==============================] - 2s 14ms/step\n",
      "17/35 [=============>................] - ETA: 0sLock acquired by 5\n",
      "Lock acquired by 5\n",
      "35/35 [==============================] - 2s 14ms/step\n",
      "Lock acquired by 0\n",
      "Lock acquired by 0\n"
     ]
    }
   ],
   "source": [
    "threadList = []\n",
    "for i in range(numOfModels):\n",
    "    threadList.append(ModelTrainer(i, x_train=x_train, y_train=y_train, x_test=x_test, y_test=y_test, scaler= scaler, num_cells_layer1=num_cells_layer1,\n",
    "                                   num_batch_size=num_batch_size, num_epochs=num_epochs, errorQueue=None, modelQueue=modelQueue, lock=lock))\n",
    "\n",
    "    threadList[i].start()\n",
    "\n",
    "## Main Thread should stop and wait for all other threads to finish\n",
    "for i in range(numOfModels):\n",
    "    threadList[i].join()"
   ]
  },
  {
   "cell_type": "markdown",
   "metadata": {},
   "source": [
    "## Organise the Objects in the Queue into a List\n",
    "___"
   ]
  },
  {
   "cell_type": "code",
   "execution_count": 7,
   "metadata": {},
   "outputs": [],
   "source": [
    "## Put the info returned from i-th threads to modelList[i]\n",
    "modelList = [0]*numOfModels\n",
    "while modelQueue.qsize() > 0:\n",
    "    tmpRMSE = modelQueue.get()\n",
    "    tmpModel = modelQueue.get()\n",
    "    index = modelQueue.get()\n",
    "    modelList[index] = [tmpModel, tmpRMSE]\n",
    "\n",
    "## Infact, it is not necessary to consider if the order of info is same as that of the threads.\n",
    "## However, that will make the things clear"
   ]
  },
  {
   "cell_type": "markdown",
   "metadata": {},
   "source": [
    "print(modelList)"
   ]
  },
  {
   "cell_type": "code",
   "execution_count": 8,
   "metadata": {},
   "outputs": [
    {
     "name": "stdout",
     "output_type": "stream",
     "text": [
      "[[<keras.src.engine.sequential.Sequential object at 0x000002333DD7C3D0>, 1.9520589628420804], [<keras.src.engine.sequential.Sequential object at 0x000002333DD8DC50>, 4.243581543994731], [<keras.src.engine.sequential.Sequential object at 0x000002333DD7C690>, 3.182449031842688], [<keras.src.engine.sequential.Sequential object at 0x000002333DD7C590>, 2.468337533987721], [<keras.src.engine.sequential.Sequential object at 0x000002333E230150>, 4.838509627905746], [<keras.src.engine.sequential.Sequential object at 0x000002333E233C50>, 4.256493821254419], [<keras.src.engine.sequential.Sequential object at 0x000002333E21DC10>, 3.6130065890822674], [<keras.src.engine.sequential.Sequential object at 0x000002333E245110>, 4.649783150609189], [<keras.src.engine.sequential.Sequential object at 0x000002333E2B4F50>, 1.9759789618800907], [<keras.src.engine.sequential.Sequential object at 0x000002333E192D90>, 2.056288765901415]]\n"
     ]
    }
   ],
   "source": [
    "print(modelList)"
   ]
  },
  {
   "cell_type": "code",
   "execution_count": 15,
   "metadata": {},
   "outputs": [
    {
     "name": "stdout",
     "output_type": "stream",
     "text": [
      "The most accurate model is from Thread_0, with RMSE of 1.9520589628420804 .\n"
     ]
    }
   ],
   "source": [
    "## find out the index with the smallest value of RMSE\n",
    "## Then, the model that fits the testing set the most could be figured out\n",
    "\n",
    "modelList = np.array(modelList)\n",
    "posMinError = np.argmin(modelList[:, 1])\n",
    "best_model = modelList[posMinError, 0]\n",
    "\n",
    "print(f\"The most accurate model is from Thread_{posMinError}, with RMSE of {modelList[posMinError, 1]} .\")"
   ]
  },
  {
   "cell_type": "markdown",
   "metadata": {},
   "source": [
    "## Save the Selectd Model\n",
    "---"
   ]
  },
  {
   "cell_type": "code",
   "execution_count": 10,
   "metadata": {},
   "outputs": [
    {
     "name": "stdout",
     "output_type": "stream",
     "text": [
      "INFO:tensorflow:Assets written to: ON_model\\assets\n"
     ]
    },
    {
     "name": "stderr",
     "output_type": "stream",
     "text": [
      "INFO:tensorflow:Assets written to: ON_model\\assets\n"
     ]
    }
   ],
   "source": [
    "best_model.save(stock+'_model')"
   ]
  },
  {
   "cell_type": "markdown",
   "metadata": {},
   "source": [
    "## Plot the Selected Model\n",
    "---"
   ]
  },
  {
   "cell_type": "code",
   "execution_count": 11,
   "metadata": {},
   "outputs": [
    {
     "name": "stdout",
     "output_type": "stream",
     "text": [
      "35/35 [==============================] - 0s 9ms/step\n"
     ]
    },
    {
     "name": "stderr",
     "output_type": "stream",
     "text": [
      "C:\\Users\\chaup\\AppData\\Local\\Temp\\ipykernel_25556\\3695896578.py:6: SettingWithCopyWarning: \n",
      "A value is trying to be set on a copy of a slice from a DataFrame.\n",
      "Try using .loc[row_indexer,col_indexer] = value instead\n",
      "\n",
      "See the caveats in the documentation: https://pandas.pydata.org/pandas-docs/stable/user_guide/indexing.html#returning-a-view-versus-a-copy\n",
      "  valid['Predictions'] = best_predictions\n"
     ]
    },
    {
     "data": {
      "image/png": "[encoded data removed]",
      "text/plain": [
       "<Figure size 1600x800 with 1 Axes>"
      ]
     },
     "metadata": {},
     "output_type": "display_data"
    }
   ],
   "source": [
    "best_predictions = best_model.predict(x_test)\n",
    "best_predictions = scaler.inverse_transform(best_predictions)\n",
    "\n",
    "train = data[:training_data_len]\n",
    "valid = data[training_data_len:]\n",
    "valid['Predictions'] = best_predictions\n",
    "\n",
    "plt.figure(figsize = (16,8))\n",
    "plt.title(stock+' Model Prediction')\n",
    "plt.xlabel('Date',fontsize = 14)\n",
    "plt.ylabel('Close Price USD($)', fontsize = 14)\n",
    "plt.plot(train['Close'])\n",
    "plt.plot(valid['Close'])\n",
    "plt.plot(valid['Predictions'])\n",
    "plt.legend(['Train','Actual','Predictions'], loc = 'lower right', fontsize = 14)\n",
    "plt.savefig(os.path.join(stock+'_model',\"prediction.jpg\"))"
   ]
  },
  {
   "cell_type": "code",
   "execution_count": 12,
   "metadata": {},
   "outputs": [
    {
     "name": "stdout",
     "output_type": "stream",
     "text": [
      "[1.9520589628420804 4.243581543994731 3.182449031842688 2.468337533987721\n",
      " 4.838509627905746 4.256493821254419 3.6130065890822674 4.649783150609189\n",
      " 1.9759789618800907 2.056288765901415]\n"
     ]
    }
   ],
   "source": [
    "print(modelList[:,1])"
   ]
  }
 ],
 "metadata": {
  "kernelspec": {
   "display_name": "Python 3.11.3 64-bit",
   "language": "python",
   "name": "python3"
  },
  "language_info": {
   "codemirror_mode": {
    "name": "ipython",
    "version": 3
   },
   "file_extension": ".py",
   "mimetype": "text/x-python",
   "name": "python",
   "nbconvert_exporter": "python",
   "pygments_lexer": "ipython3",
   "version": "3.11.1"
  },
  "orig_nbformat": 4,
  "vscode": {
   "interpreter": {
    "hash": "aee8b7b246df8f9039afb4144a1f6fd8d2ca17a180786b69acc140d282b71a49"
   }
  }
 },
 "nbformat": 4,
 "nbformat_minor": 2
}
